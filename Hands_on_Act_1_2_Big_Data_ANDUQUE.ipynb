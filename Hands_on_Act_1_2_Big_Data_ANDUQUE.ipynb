{
  "nbformat": 4,
  "nbformat_minor": 0,
  "metadata": {
    "colab": {
      "provenance": [],
      "include_colab_link": true
    },
    "kernelspec": {
      "name": "python3",
      "display_name": "Python 3"
    },
    "language_info": {
      "name": "python"
    }
  },
  "cells": [
    {
      "cell_type": "markdown",
      "metadata": {
        "id": "view-in-github",
        "colab_type": "text"
      },
      "source": [
        "<a href=\"https://colab.research.google.com/github/KurtGabrielAnduque/CPE032/blob/main/Hands_on_Act_1_2_Big_Data_ANDUQUE.ipynb\" target=\"_parent\"><img src=\"https://colab.research.google.com/assets/colab-badge.svg\" alt=\"Open In Colab\"/></a>"
      ]
    },
    {
      "cell_type": "markdown",
      "source": [
        "Technological Institute of the Philippines | Quezon City - Computer Engineering\n",
        "--- | ---\n",
        "Course Code: | CPE 032\n",
        "Code Title: | Big Data Engineering\n",
        "1st Semester | AY 2025-2026\n",
        "<hr> | <hr>\n",
        "<u>**ACTIVITY NO. 2**</u> | <u>**Hands-on-Act-1.2-Big Data**</u>\n",
        "**Name** | Anduque, Kurt Gabriel A.\n",
        "**Section** | CPE31S4\n",
        "**Date Performed**: | August 16, 2025\n",
        "**Date Submitted**: | August 20, 2025\n",
        "**Instructor**: | Engr. Matira, Neal Barton James\n",
        "\n",
        "<hr>"
      ],
      "metadata": {
        "id": "oE97zslv0DOs"
      }
    },
    {
      "cell_type": "markdown",
      "source": [
        "#Procedure\n"
      ],
      "metadata": {
        "id": "fSRiOJ3FMzz7"
      }
    },
    {
      "cell_type": "code",
      "source": [],
      "metadata": {
        "id": "xf6dhXop1oN6"
      },
      "execution_count": null,
      "outputs": []
    },
    {
      "cell_type": "code",
      "source": [
        "from pyspark.sql import SparkSession\n",
        "spark = SparkSession.builder.appName(\"AdvancedDFOps\").getOrCreate()\n"
      ],
      "metadata": {
        "id": "ClK0C7u086RN"
      },
      "execution_count": 1,
      "outputs": []
    },
    {
      "cell_type": "code",
      "source": [
        "from google.colab import drive\n",
        "drive.mount('/content/drive')"
      ],
      "metadata": {
        "colab": {
          "base_uri": "https://localhost:8080/"
        },
        "id": "dSRANp2dJHPS",
        "outputId": "d7b93191-95be-465b-ae1a-b76178621a99"
      },
      "execution_count": 2,
      "outputs": [
        {
          "output_type": "stream",
          "name": "stdout",
          "text": [
            "Mounted at /content/drive\n"
          ]
        }
      ]
    },
    {
      "cell_type": "markdown",
      "source": [
        "Upload the online_retail_ii.csv from Kaggle into your Google Drive.\n",
        "\n",
        "Mount Google Drive in Colab and read the CSV:\n"
      ],
      "metadata": {
        "id": "kX0VAJjC-hbL"
      }
    },
    {
      "cell_type": "code",
      "source": [
        "retail_df = spark.read.csv(\"/content/drive/MyDrive/CPE032/online_retail_II.csv\", header=True, inferSchema=True)\n",
        "retail_df.printSchema()"
      ],
      "metadata": {
        "colab": {
          "base_uri": "https://localhost:8080/"
        },
        "id": "BKNd1ZjW9FJt",
        "outputId": "711eb46b-c987-4c1d-cefb-d7f1cebae572"
      },
      "execution_count": 3,
      "outputs": [
        {
          "output_type": "stream",
          "name": "stdout",
          "text": [
            "root\n",
            " |-- Invoice: string (nullable = true)\n",
            " |-- StockCode: string (nullable = true)\n",
            " |-- Description: string (nullable = true)\n",
            " |-- Quantity: integer (nullable = true)\n",
            " |-- InvoiceDate: timestamp (nullable = true)\n",
            " |-- Price: double (nullable = true)\n",
            " |-- Customer ID: double (nullable = true)\n",
            " |-- Country: string (nullable = true)\n",
            "\n"
          ]
        }
      ]
    },
    {
      "cell_type": "markdown",
      "source": [
        "1. Merge data from two years of sales into a single DataFrame.\n",
        "2. First, split the dataset by year:\n",
        "3. Perform a full outer join on the \"Customer ID\" column:"
      ],
      "metadata": {
        "id": "5YDafTUODXgv"
      }
    },
    {
      "cell_type": "code",
      "source": [
        "from pyspark.sql.functions import year, col\n",
        "\n",
        "df_2009 = retail_df.filter(year(col(\"InvoiceDate\")) == 2009)\n",
        "df_2010 = retail_df.filter(year(col(\"InvoiceDate\")) == 2010)\n",
        "\n",
        "# Full outer join on Customer ID\n",
        "\n",
        "joined_df = df_2009.join(df_2010, on=[\"Customer ID\"], how=\"full_outer\")\n",
        "# Keep only one \"Customer ID\"\n",
        "\n"
      ],
      "metadata": {
        "id": "85U_ae0S-eR-"
      },
      "execution_count": 4,
      "outputs": []
    },
    {
      "cell_type": "code",
      "source": [
        "df_2009.show(5)"
      ],
      "metadata": {
        "colab": {
          "base_uri": "https://localhost:8080/"
        },
        "id": "XTC1v2tJL0ce",
        "outputId": "07f9e386-54f1-46c7-9c27-635c25778b43"
      },
      "execution_count": 5,
      "outputs": [
        {
          "output_type": "stream",
          "name": "stdout",
          "text": [
            "+-------+---------+--------------------+--------+-------------------+-----+-----------+--------------+\n",
            "|Invoice|StockCode|         Description|Quantity|        InvoiceDate|Price|Customer ID|       Country|\n",
            "+-------+---------+--------------------+--------+-------------------+-----+-----------+--------------+\n",
            "| 489434|    85048|15CM CHRISTMAS GL...|      12|2009-12-01 07:45:00| 6.95|    13085.0|United Kingdom|\n",
            "| 489434|   79323P|  PINK CHERRY LIGHTS|      12|2009-12-01 07:45:00| 6.75|    13085.0|United Kingdom|\n",
            "| 489434|   79323W| WHITE CHERRY LIGHTS|      12|2009-12-01 07:45:00| 6.75|    13085.0|United Kingdom|\n",
            "| 489434|    22041|\"RECORD FRAME 7\"\"...|      48|2009-12-01 07:45:00|  2.1|    13085.0|United Kingdom|\n",
            "| 489434|    21232|STRAWBERRY CERAMI...|      24|2009-12-01 07:45:00| 1.25|    13085.0|United Kingdom|\n",
            "+-------+---------+--------------------+--------+-------------------+-----+-----------+--------------+\n",
            "only showing top 5 rows\n",
            "\n"
          ]
        }
      ]
    },
    {
      "cell_type": "code",
      "source": [
        "df_2010.show(5)"
      ],
      "metadata": {
        "colab": {
          "base_uri": "https://localhost:8080/"
        },
        "id": "Awv9T_RvL22s",
        "outputId": "e87aa540-7bd7-4411-9f7e-8e2171ab8584"
      },
      "execution_count": 6,
      "outputs": [
        {
          "output_type": "stream",
          "name": "stdout",
          "text": [
            "+-------+---------+--------------------+--------+-------------------+-----+-----------+--------------+\n",
            "|Invoice|StockCode|         Description|Quantity|        InvoiceDate|Price|Customer ID|       Country|\n",
            "+-------+---------+--------------------+--------+-------------------+-----+-----------+--------------+\n",
            "| 493410|  TEST001|This is a test pr...|       5|2010-01-04 09:24:00|  4.5|    12346.0|United Kingdom|\n",
            "|C493411|    21539|RETRO SPOTS BUTTE...|      -1|2010-01-04 09:43:00| 4.25|    14590.0|United Kingdom|\n",
            "| 493412|  TEST001|This is a test pr...|       5|2010-01-04 09:53:00|  4.5|    12346.0|United Kingdom|\n",
            "| 493413|    21724|PANDA AND BUNNIES...|       1|2010-01-04 09:54:00| 0.85|       NULL|United Kingdom|\n",
            "| 493413|    84578|ELEPHANT TOY WITH...|       1|2010-01-04 09:54:00| 3.75|       NULL|United Kingdom|\n",
            "+-------+---------+--------------------+--------+-------------------+-----+-----------+--------------+\n",
            "only showing top 5 rows\n",
            "\n"
          ]
        }
      ]
    },
    {
      "cell_type": "code",
      "source": [
        "joined_df.show(5)"
      ],
      "metadata": {
        "colab": {
          "base_uri": "https://localhost:8080/"
        },
        "id": "HQ2TaJ_fgN6E",
        "outputId": "65db0596-773d-4d12-f14d-dbd2d1bc3ac8"
      },
      "execution_count": 7,
      "outputs": [
        {
          "output_type": "stream",
          "name": "stdout",
          "text": [
            "+-----------+-------+---------+--------------------+--------+-------------------+-----+--------------+-------+---------+-----------+--------+-----------+-----+-------+\n",
            "|Customer ID|Invoice|StockCode|         Description|Quantity|        InvoiceDate|Price|       Country|Invoice|StockCode|Description|Quantity|InvoiceDate|Price|Country|\n",
            "+-----------+-------+---------+--------------------+--------+-------------------+-----+--------------+-------+---------+-----------+--------+-----------+-----+-------+\n",
            "|       NULL| 489464|    21733|        85123a mixed|     -96|2009-12-01 10:52:00|  0.0|United Kingdom|   NULL|     NULL|       NULL|    NULL|       NULL| NULL|   NULL|\n",
            "|       NULL| 489463|    71477|               short|    -240|2009-12-01 10:52:00|  0.0|United Kingdom|   NULL|     NULL|       NULL|    NULL|       NULL| NULL|   NULL|\n",
            "|       NULL| 489467|   85123A|         21733 mixed|    -192|2009-12-01 10:53:00|  0.0|United Kingdom|   NULL|     NULL|       NULL|    NULL|       NULL| NULL|   NULL|\n",
            "|       NULL| 489521|    21646|                NULL|     -50|2009-12-01 11:44:00|  0.0|United Kingdom|   NULL|     NULL|       NULL|    NULL|       NULL| NULL|   NULL|\n",
            "|       NULL| 489525|   85226C|BLUE PULL BACK RA...|       1|2009-12-01 11:49:00| 0.55|United Kingdom|   NULL|     NULL|       NULL|    NULL|       NULL| NULL|   NULL|\n",
            "+-----------+-------+---------+--------------------+--------+-------------------+-----+--------------+-------+---------+-----------+--------+-----------+-----+-------+\n",
            "only showing top 5 rows\n",
            "\n"
          ]
        }
      ]
    },
    {
      "cell_type": "markdown",
      "source": [
        "Union Operations: A union stacks DataFrames vertically but only works if their schemas match exactly in column names, order, and data types."
      ],
      "metadata": {
        "id": "rf7by6s5LY4f"
      }
    },
    {
      "cell_type": "code",
      "source": [
        "union_df = df_2009.union(df_2010)\n"
      ],
      "metadata": {
        "id": "-wKPC4v6_6Oe"
      },
      "execution_count": 8,
      "outputs": []
    },
    {
      "cell_type": "code",
      "source": [
        "union_df.show(5)"
      ],
      "metadata": {
        "colab": {
          "base_uri": "https://localhost:8080/"
        },
        "id": "D0-oq4WHg-0V",
        "outputId": "f2db60d6-85b1-48fa-e238-e50a09e12aaf"
      },
      "execution_count": 9,
      "outputs": [
        {
          "output_type": "stream",
          "name": "stdout",
          "text": [
            "+-------+---------+--------------------+--------+-------------------+-----+-----------+--------------+\n",
            "|Invoice|StockCode|         Description|Quantity|        InvoiceDate|Price|Customer ID|       Country|\n",
            "+-------+---------+--------------------+--------+-------------------+-----+-----------+--------------+\n",
            "| 489434|    85048|15CM CHRISTMAS GL...|      12|2009-12-01 07:45:00| 6.95|    13085.0|United Kingdom|\n",
            "| 489434|   79323P|  PINK CHERRY LIGHTS|      12|2009-12-01 07:45:00| 6.75|    13085.0|United Kingdom|\n",
            "| 489434|   79323W| WHITE CHERRY LIGHTS|      12|2009-12-01 07:45:00| 6.75|    13085.0|United Kingdom|\n",
            "| 489434|    22041|\"RECORD FRAME 7\"\"...|      48|2009-12-01 07:45:00|  2.1|    13085.0|United Kingdom|\n",
            "| 489434|    21232|STRAWBERRY CERAMI...|      24|2009-12-01 07:45:00| 1.25|    13085.0|United Kingdom|\n",
            "+-------+---------+--------------------+--------+-------------------+-----+-----------+--------------+\n",
            "only showing top 5 rows\n",
            "\n"
          ]
        }
      ]
    },
    {
      "cell_type": "markdown",
      "source": [
        "Advanced Column Operations: Functions like withColumn, year, and struct allow creation of new calculated fields and nested structures without altering the original data."
      ],
      "metadata": {
        "id": "AyOut60aLZdS"
      }
    },
    {
      "cell_type": "code",
      "source": [
        "from pyspark.sql.functions import month, struct\n",
        "\n",
        "retail_df = retail_df.withColumn(\"TotalPrice\", col(\"Quantity\") * col(\"Price\")) \\\n",
        "                     .withColumn(\"Year\", year(col(\"InvoiceDate\"))) \\\n",
        "                     .withColumn(\"Month\", month(col(\"InvoiceDate\"))) \\\n",
        "                     .withColumn(\"ProductInfo\", struct(col(\"StockCode\"), col(\"Description\")))\n"
      ],
      "metadata": {
        "id": "l70jc4sN_-33"
      },
      "execution_count": 10,
      "outputs": []
    },
    {
      "cell_type": "code",
      "source": [
        "retail_df.show(5)"
      ],
      "metadata": {
        "colab": {
          "base_uri": "https://localhost:8080/"
        },
        "id": "DuQEr-wEhVBc",
        "outputId": "2d28e651-70e3-4de6-e483-68dfd8431c78"
      },
      "execution_count": 11,
      "outputs": [
        {
          "output_type": "stream",
          "name": "stdout",
          "text": [
            "+-------+---------+--------------------+--------+-------------------+-----+-----------+--------------+------------------+----+-----+--------------------+\n",
            "|Invoice|StockCode|         Description|Quantity|        InvoiceDate|Price|Customer ID|       Country|        TotalPrice|Year|Month|         ProductInfo|\n",
            "+-------+---------+--------------------+--------+-------------------+-----+-----------+--------------+------------------+----+-----+--------------------+\n",
            "| 489434|    85048|15CM CHRISTMAS GL...|      12|2009-12-01 07:45:00| 6.95|    13085.0|United Kingdom|              83.4|2009|   12|{85048, 15CM CHRI...|\n",
            "| 489434|   79323P|  PINK CHERRY LIGHTS|      12|2009-12-01 07:45:00| 6.75|    13085.0|United Kingdom|              81.0|2009|   12|{79323P, PINK CHE...|\n",
            "| 489434|   79323W| WHITE CHERRY LIGHTS|      12|2009-12-01 07:45:00| 6.75|    13085.0|United Kingdom|              81.0|2009|   12|{79323W,  WHITE C...|\n",
            "| 489434|    22041|\"RECORD FRAME 7\"\"...|      48|2009-12-01 07:45:00|  2.1|    13085.0|United Kingdom|100.80000000000001|2009|   12|{22041, \"RECORD F...|\n",
            "| 489434|    21232|STRAWBERRY CERAMI...|      24|2009-12-01 07:45:00| 1.25|    13085.0|United Kingdom|              30.0|2009|   12|{21232, STRAWBERR...|\n",
            "+-------+---------+--------------------+--------+-------------------+-----+-----------+--------------+------------------+----+-----+--------------------+\n",
            "only showing top 5 rows\n",
            "\n"
          ]
        }
      ]
    },
    {
      "cell_type": "markdown",
      "source": [
        "Working with Arrays & Maps: Aggregating values into arrays or maps enables storing complex, multi-value attributes inside a single DataFrame column.\n",
        "\n"
      ],
      "metadata": {
        "id": "7YJYirS3Lc5D"
      }
    },
    {
      "cell_type": "code",
      "source": [
        "from pyspark.sql.functions import collect_list, create_map\n",
        "\n",
        "products_per_customer = retail_df.groupBy(\"Customer ID\") \\\n",
        "    .agg(collect_list(\"Description\").alias(\"ProductsBought\"))\n",
        "\n",
        "maps_per_customer = retail_df.groupBy(\"Customer ID\") \\\n",
        "    .agg(collect_list(\"StockCode\").alias(\"Codes\"),\n",
        "         collect_list(\"Quantity\").alias(\"Quantities\"))"
      ],
      "metadata": {
        "id": "1m3a4skIAACR"
      },
      "execution_count": 12,
      "outputs": []
    },
    {
      "cell_type": "code",
      "source": [
        "products_per_customer.show(5)"
      ],
      "metadata": {
        "colab": {
          "base_uri": "https://localhost:8080/"
        },
        "id": "SGlY3nf8iW4c",
        "outputId": "2002e6d4-7b6a-4b92-8f4a-b4c689d3ee60"
      },
      "execution_count": 13,
      "outputs": [
        {
          "output_type": "stream",
          "name": "stdout",
          "text": [
            "+-----------+--------------------+\n",
            "|Customer ID|      ProductsBought|\n",
            "+-----------+--------------------+\n",
            "|       NULL|[invcd as 84879?,...|\n",
            "|    12351.0|[WRAP MONSTER FUN...|\n",
            "|    12354.0|[JUMBO BAG ALPHAB...|\n",
            "|    12356.0|[SET OF 36 DOILIE...|\n",
            "|    12358.0|[MUSHROOM BLUE HO...|\n",
            "+-----------+--------------------+\n",
            "only showing top 5 rows\n",
            "\n"
          ]
        }
      ]
    },
    {
      "cell_type": "code",
      "source": [
        "maps_per_customer.show(5)"
      ],
      "metadata": {
        "colab": {
          "base_uri": "https://localhost:8080/"
        },
        "id": "wvCI2ojeiZWc",
        "outputId": "e96491a0-fefc-4a81-8e5d-9dd211f3a1f9"
      },
      "execution_count": 14,
      "outputs": [
        {
          "output_type": "stream",
          "name": "stdout",
          "text": [
            "+-----------+--------------------+--------------------+\n",
            "|Customer ID|               Codes|          Quantities|\n",
            "+-----------+--------------------+--------------------+\n",
            "|       NULL|[84292, 18010, 21...|[17, -770, -720, ...|\n",
            "|    12351.0|[22707, 22706, 22...|[25, 25, 25, 25, ...|\n",
            "|    12354.0|[23201, 23204, 23...|[10, 10, 10, 4, 4...|\n",
            "|    12356.0|[22416, 22938, 22...|[12, 12, 12, 8, 9...|\n",
            "|    12358.0|[21482, 21481, 85...|[6, 6, 12, 12, 60...|\n",
            "+-----------+--------------------+--------------------+\n",
            "only showing top 5 rows\n",
            "\n"
          ]
        }
      ]
    },
    {
      "cell_type": "code",
      "source": [
        "#implementing create_map my code\n",
        "# group customer ID find the stock code of product and quantity they purchased\n",
        "df_map = retail_df.groupBy(\"Customer ID\").agg(collect_list(create_map(col(\"StockCode\"), col(\"Quantity\"))).alias(\"mapping Quantity\"))"
      ],
      "metadata": {
        "id": "PLvO52zUsM96"
      },
      "execution_count": 15,
      "outputs": []
    },
    {
      "cell_type": "code",
      "source": [
        "df_map.show(5)"
      ],
      "metadata": {
        "colab": {
          "base_uri": "https://localhost:8080/"
        },
        "id": "1cPFg0HxstZZ",
        "outputId": "71838844-ef73-4cd1-fe6f-c523eb264027"
      },
      "execution_count": 16,
      "outputs": [
        {
          "output_type": "stream",
          "name": "stdout",
          "text": [
            "+-----------+--------------------+\n",
            "|Customer ID|    mapping Quantity|\n",
            "+-----------+--------------------+\n",
            "|       NULL|[{84292 -> 17}, {...|\n",
            "|    12351.0|[{22707 -> 25}, {...|\n",
            "|    12354.0|[{23201 -> 10}, {...|\n",
            "|    12356.0|[{22416 -> 12}, {...|\n",
            "|    12358.0|[{21482 -> 6}, {2...|\n",
            "+-----------+--------------------+\n",
            "only showing top 5 rows\n",
            "\n"
          ]
        }
      ]
    },
    {
      "cell_type": "markdown",
      "source": [
        "Aggregations and Analytics: Grouping and using aggregate functions such as sum or window functions enables advanced insights like top customers and time-based trends."
      ],
      "metadata": {
        "id": "vBspjJhOLe0N"
      }
    },
    {
      "cell_type": "code",
      "source": [
        "from pyspark.sql.functions import sum as _sum\n",
        "\n",
        "top_customers = retail_df.groupBy(\"Customer ID\") \\\n",
        "    .agg(_sum(\"TotalPrice\").alias(\"TotalSpent\")) \\\n",
        "    .orderBy(col(\"TotalSpent\").desc()) \\\n",
        "    .limit(5)\n"
      ],
      "metadata": {
        "id": "gkSal_vmABRj"
      },
      "execution_count": 17,
      "outputs": []
    },
    {
      "cell_type": "code",
      "source": [
        "retail_df.show(5)\n"
      ],
      "metadata": {
        "colab": {
          "base_uri": "https://localhost:8080/"
        },
        "id": "i6IF2wIFLx8v",
        "outputId": "38f4569e-e073-4102-f817-8b52780446c3"
      },
      "execution_count": 18,
      "outputs": [
        {
          "output_type": "stream",
          "name": "stdout",
          "text": [
            "+-------+---------+--------------------+--------+-------------------+-----+-----------+--------------+------------------+----+-----+--------------------+\n",
            "|Invoice|StockCode|         Description|Quantity|        InvoiceDate|Price|Customer ID|       Country|        TotalPrice|Year|Month|         ProductInfo|\n",
            "+-------+---------+--------------------+--------+-------------------+-----+-----------+--------------+------------------+----+-----+--------------------+\n",
            "| 489434|    85048|15CM CHRISTMAS GL...|      12|2009-12-01 07:45:00| 6.95|    13085.0|United Kingdom|              83.4|2009|   12|{85048, 15CM CHRI...|\n",
            "| 489434|   79323P|  PINK CHERRY LIGHTS|      12|2009-12-01 07:45:00| 6.75|    13085.0|United Kingdom|              81.0|2009|   12|{79323P, PINK CHE...|\n",
            "| 489434|   79323W| WHITE CHERRY LIGHTS|      12|2009-12-01 07:45:00| 6.75|    13085.0|United Kingdom|              81.0|2009|   12|{79323W,  WHITE C...|\n",
            "| 489434|    22041|\"RECORD FRAME 7\"\"...|      48|2009-12-01 07:45:00|  2.1|    13085.0|United Kingdom|100.80000000000001|2009|   12|{22041, \"RECORD F...|\n",
            "| 489434|    21232|STRAWBERRY CERAMI...|      24|2009-12-01 07:45:00| 1.25|    13085.0|United Kingdom|              30.0|2009|   12|{21232, STRAWBERR...|\n",
            "+-------+---------+--------------------+--------+-------------------+-----+-----------+--------------+------------------+----+-----+--------------------+\n",
            "only showing top 5 rows\n",
            "\n"
          ]
        }
      ]
    },
    {
      "cell_type": "markdown",
      "source": [
        "# Supplementary\n",
        "\n"
      ],
      "metadata": {
        "id": "GkhDMLRSIZvj"
      }
    },
    {
      "cell_type": "markdown",
      "source": [
        "1. Use the same SparkSession from the main activity — do not create a new one.\n",
        "2. Load the dataset into a DataFrame (retail_df) and display its schema to confirm correct column\n",
        "names and types.\n",
        "3. Data Cleaning:\n",
        "\n",
        "- a. 3.1 Remove rows with null in \"Customer ID\", \"Invoice\", or \"Price\". <br>\n",
        "- b. 3.2 Filter out transactions where Quantity or Price is less than or equal to zero.\n",
        "4. Feature Engineering: <br>\n",
        "a. 4.1 Create a new column \"TotalPrice\" = Quantity * Price. <br>\n",
        "b.  4.2 Extract \"Year\" and \"Month\" from InvoiceDate.\n",
        "5. Segmentation by Spend: <br>\n",
        "a. 5.1 Group by \"Customer ID\" and compute: <br>\n",
        "  -   i. - Total amount spent (sum(TotalPrice)). <br>\n",
        "  -   ii. - Number of unique purchases (countDistinct(Invoice)). <br>\n",
        "b. 5.2 Create a new column \"SpendingCategory\":\n",
        "  - i. - \"High\" if total spent ≥ 5000.\n",
        "  - ii. - \"Medium\" if total spent between 1000 and 4999.\n",
        "  - iii. - \"Low\" if total spent < 1000.\n",
        "6. Top Products per Segment: For each \"SpendingCategory\", find the top 3 most purchased products\n",
        "(Description) based on total quantity sold.\n",
        "7. Country-Wise Trends: For \"High\" spenders only, group by \"Country\" and \"Month\" to compute total\n",
        "monthly revenue, then sort by revenue in descending order.\n",
        "8. Save Results: Save both the customer segmentation table and the top products table as separate\n",
        "Parquet files.\n",
        "\n"
      ],
      "metadata": {
        "id": "_3OGfZpnIuGr"
      }
    },
    {
      "cell_type": "code",
      "source": [
        "# import the necessary libraries\n",
        "import pyspark.sql.functions as pysql\n",
        "from pyspark.sql.window import Window"
      ],
      "metadata": {
        "id": "SWw3ptGv1wxh"
      },
      "execution_count": 50,
      "outputs": []
    },
    {
      "cell_type": "markdown",
      "source": [
        "<font size = 5><b>2. Load the dataset into a DataFrame (retail_df) and display its schema to confirm correct column names and types."
      ],
      "metadata": {
        "id": "cX2loVav39r7"
      }
    },
    {
      "cell_type": "code",
      "source": [
        "retail_df = spark.read.csv(\"/content/drive/MyDrive/CPE032/online_retail_II.csv\", header = True, inferSchema = True)\n",
        "retail_df.printSchema()"
      ],
      "metadata": {
        "colab": {
          "base_uri": "https://localhost:8080/"
        },
        "id": "LEKTVzhr3ZDa",
        "outputId": "c1257a0f-163b-439f-e4dd-a3566dc28f52"
      },
      "execution_count": 20,
      "outputs": [
        {
          "output_type": "stream",
          "name": "stdout",
          "text": [
            "root\n",
            " |-- Invoice: string (nullable = true)\n",
            " |-- StockCode: string (nullable = true)\n",
            " |-- Description: string (nullable = true)\n",
            " |-- Quantity: integer (nullable = true)\n",
            " |-- InvoiceDate: timestamp (nullable = true)\n",
            " |-- Price: double (nullable = true)\n",
            " |-- Customer ID: double (nullable = true)\n",
            " |-- Country: string (nullable = true)\n",
            "\n"
          ]
        }
      ]
    },
    {
      "cell_type": "markdown",
      "source": [
        "<font size = 5><b>3. Data Cleaning:</font>\n"
      ],
      "metadata": {
        "id": "zS7CNcTb4G7y"
      }
    },
    {
      "cell_type": "markdown",
      "source": [
        "<b>a. 3.1 Remove rows with null in \"Customer ID\", \"Invoice\", or \"Price\".</b>"
      ],
      "metadata": {
        "id": "cz4YJf3p4jWa"
      }
    },
    {
      "cell_type": "code",
      "source": [
        "# find first if there null values of that specific columns\n",
        "null_count = retail_df.filter(pysql.col(\"Invoice\").isNull() |\n",
        "                              pysql.col(\"Price\").isNull() |\n",
        "                              pysql.col(\"Customer ID\").isNull()).count()"
      ],
      "metadata": {
        "id": "O0OU71XD4aKz"
      },
      "execution_count": 21,
      "outputs": []
    },
    {
      "cell_type": "code",
      "source": [
        "print(null_count)"
      ],
      "metadata": {
        "colab": {
          "base_uri": "https://localhost:8080/"
        },
        "id": "nEz2Q2ZV55VD",
        "outputId": "7a1de925-c8b7-4ec3-87e5-cdd16db0bce2"
      },
      "execution_count": 22,
      "outputs": [
        {
          "output_type": "stream",
          "name": "stdout",
          "text": [
            "243007\n"
          ]
        }
      ]
    },
    {
      "cell_type": "code",
      "source": [
        "# since there are so many nulls\n",
        "# we drop them\n",
        "\n",
        "retail_df = retail_df.dropna(subset = [\"Customer Id\",\"Invoice\", \"Price\"])\n",
        "null_count = retail_df.filter(pysql.col(\"Invoice\").isNull() |\n",
        "                              pysql.col(\"Price\").isNull() |\n",
        "                              pysql.col(\"Customer ID\").isNull()).count()\n"
      ],
      "metadata": {
        "id": "Z_umbZ5M6OaD"
      },
      "execution_count": 23,
      "outputs": []
    },
    {
      "cell_type": "code",
      "source": [
        "# base on the result  droping null values are done\n",
        "print(null_count)"
      ],
      "metadata": {
        "colab": {
          "base_uri": "https://localhost:8080/"
        },
        "id": "ZhuZ5R6H6jZa",
        "outputId": "644d9610-7ee4-4481-9af7-ade3ff493d02"
      },
      "execution_count": 24,
      "outputs": [
        {
          "output_type": "stream",
          "name": "stdout",
          "text": [
            "0\n"
          ]
        }
      ]
    },
    {
      "cell_type": "markdown",
      "source": [
        "<b> b. 3.2 Filter out transactions where Quantity or Price is less than or equal to zero."
      ],
      "metadata": {
        "id": "icp9JRx-6q3C"
      }
    },
    {
      "cell_type": "code",
      "source": [
        "retail_df = retail_df.filter((pysql.col(\"Quantity\") > 0 ) & (pysql.col(\"Price\") > 0))"
      ],
      "metadata": {
        "id": "HfS5QHAC6qlK"
      },
      "execution_count": 25,
      "outputs": []
    },
    {
      "cell_type": "code",
      "source": [
        "#lets check the result\n",
        "\n",
        "check = retail_df.filter((pysql.col(\"Quantity\") <= 0) | (pysql.col(\"Price\") <= 0))\n",
        "check.show()"
      ],
      "metadata": {
        "colab": {
          "base_uri": "https://localhost:8080/"
        },
        "id": "0gQxR7-77Ab7",
        "outputId": "f8b1b64c-3b76-4669-ee50-ca207acdcaee"
      },
      "execution_count": 26,
      "outputs": [
        {
          "output_type": "stream",
          "name": "stdout",
          "text": [
            "+-------+---------+-----------+--------+-----------+-----+-----------+-------+\n",
            "|Invoice|StockCode|Description|Quantity|InvoiceDate|Price|Customer ID|Country|\n",
            "+-------+---------+-----------+--------+-----------+-----+-----------+-------+\n",
            "+-------+---------+-----------+--------+-----------+-----+-----------+-------+\n",
            "\n"
          ]
        }
      ]
    },
    {
      "cell_type": "markdown",
      "source": [
        "<font size = 5> <b>4. Feature Engineering:\n"
      ],
      "metadata": {
        "id": "SDH3Ke0X7dKz"
      }
    },
    {
      "cell_type": "markdown",
      "source": [
        "<b> a. 4.1 Create a new column \"TotalPrice\" = Quantity * Price."
      ],
      "metadata": {
        "id": "0MFM53eo7g1r"
      }
    },
    {
      "cell_type": "code",
      "source": [
        "retail_df = retail_df.withColumn(\"TotalPrice\", pysql.round(pysql.col(\"Quantity\") * pysql.col(\"Price\")))"
      ],
      "metadata": {
        "id": "UKEmQx_K7loj"
      },
      "execution_count": 27,
      "outputs": []
    },
    {
      "cell_type": "code",
      "source": [
        "retail_df.show(5)"
      ],
      "metadata": {
        "colab": {
          "base_uri": "https://localhost:8080/"
        },
        "id": "AjRsvGH-73ID",
        "outputId": "75183c1f-8116-4d76-eb9a-747e48ec61bb"
      },
      "execution_count": 28,
      "outputs": [
        {
          "output_type": "stream",
          "name": "stdout",
          "text": [
            "+-------+---------+--------------------+--------+-------------------+-----+-----------+--------------+----------+\n",
            "|Invoice|StockCode|         Description|Quantity|        InvoiceDate|Price|Customer ID|       Country|TotalPrice|\n",
            "+-------+---------+--------------------+--------+-------------------+-----+-----------+--------------+----------+\n",
            "| 489434|    85048|15CM CHRISTMAS GL...|      12|2009-12-01 07:45:00| 6.95|    13085.0|United Kingdom|      83.0|\n",
            "| 489434|   79323P|  PINK CHERRY LIGHTS|      12|2009-12-01 07:45:00| 6.75|    13085.0|United Kingdom|      81.0|\n",
            "| 489434|   79323W| WHITE CHERRY LIGHTS|      12|2009-12-01 07:45:00| 6.75|    13085.0|United Kingdom|      81.0|\n",
            "| 489434|    22041|\"RECORD FRAME 7\"\"...|      48|2009-12-01 07:45:00|  2.1|    13085.0|United Kingdom|     101.0|\n",
            "| 489434|    21232|STRAWBERRY CERAMI...|      24|2009-12-01 07:45:00| 1.25|    13085.0|United Kingdom|      30.0|\n",
            "+-------+---------+--------------------+--------+-------------------+-----+-----------+--------------+----------+\n",
            "only showing top 5 rows\n",
            "\n"
          ]
        }
      ]
    },
    {
      "cell_type": "markdown",
      "source": [
        "<b>b. 4.2 Extract \"Year\" and \"Month\" from InvoiceDate."
      ],
      "metadata": {
        "id": "D1PztKle7kHq"
      }
    },
    {
      "cell_type": "code",
      "source": [
        "retail_df = retail_df.withColumn(\"Year\", pysql.year(pysql.col(\"InvoiceDate\"))).withColumn(\"Month\", pysql.month(pysql.col(\"InvoiceDate\")))"
      ],
      "metadata": {
        "id": "gO80hbh68LRz"
      },
      "execution_count": 29,
      "outputs": []
    },
    {
      "cell_type": "code",
      "source": [
        "retail_df.show(5)"
      ],
      "metadata": {
        "colab": {
          "base_uri": "https://localhost:8080/"
        },
        "id": "rHXVimW28e-D",
        "outputId": "24161fc8-ab3d-46a0-fb0a-d16811857239"
      },
      "execution_count": 30,
      "outputs": [
        {
          "output_type": "stream",
          "name": "stdout",
          "text": [
            "+-------+---------+--------------------+--------+-------------------+-----+-----------+--------------+----------+----+-----+\n",
            "|Invoice|StockCode|         Description|Quantity|        InvoiceDate|Price|Customer ID|       Country|TotalPrice|Year|Month|\n",
            "+-------+---------+--------------------+--------+-------------------+-----+-----------+--------------+----------+----+-----+\n",
            "| 489434|    85048|15CM CHRISTMAS GL...|      12|2009-12-01 07:45:00| 6.95|    13085.0|United Kingdom|      83.0|2009|   12|\n",
            "| 489434|   79323P|  PINK CHERRY LIGHTS|      12|2009-12-01 07:45:00| 6.75|    13085.0|United Kingdom|      81.0|2009|   12|\n",
            "| 489434|   79323W| WHITE CHERRY LIGHTS|      12|2009-12-01 07:45:00| 6.75|    13085.0|United Kingdom|      81.0|2009|   12|\n",
            "| 489434|    22041|\"RECORD FRAME 7\"\"...|      48|2009-12-01 07:45:00|  2.1|    13085.0|United Kingdom|     101.0|2009|   12|\n",
            "| 489434|    21232|STRAWBERRY CERAMI...|      24|2009-12-01 07:45:00| 1.25|    13085.0|United Kingdom|      30.0|2009|   12|\n",
            "+-------+---------+--------------------+--------+-------------------+-----+-----------+--------------+----------+----+-----+\n",
            "only showing top 5 rows\n",
            "\n"
          ]
        }
      ]
    },
    {
      "cell_type": "markdown",
      "source": [
        "<font size =5><b> 5. Segmentation by Spend:"
      ],
      "metadata": {
        "id": "NUk8SJtH9kAb"
      }
    },
    {
      "cell_type": "markdown",
      "source": [
        "<b>a. 5.1 Group by \"Customer ID\" and compute: <br>\n",
        "  -   i. - Total amount spent (sum(TotalPrice)). <br>\n",
        "  -   ii. - Number of unique purchases (countDistinct(Invoice)). <br>"
      ],
      "metadata": {
        "id": "x9kY0O5h9vkj"
      }
    },
    {
      "cell_type": "code",
      "source": [
        "Segmentation_spend = retail_df.groupBy(\"Customer ID\").agg(\\\n",
        "    pysql.sum(\"TotalPrice\").alias(\"Total_Spent\"), \\\n",
        "    pysql.countDistinct(\"Invoice\").alias(\"No_unique_purchase\"))"
      ],
      "metadata": {
        "id": "HMcYf2Pw9jC7"
      },
      "execution_count": 46,
      "outputs": []
    },
    {
      "cell_type": "code",
      "source": [
        "Segmentation_spend.show(5)"
      ],
      "metadata": {
        "colab": {
          "base_uri": "https://localhost:8080/"
        },
        "id": "WkQmD6Hx9h8L",
        "outputId": "5353a554-97fd-4843-88c4-bcc03d34ba2e"
      },
      "execution_count": 48,
      "outputs": [
        {
          "output_type": "stream",
          "name": "stdout",
          "text": [
            "+-----------+-----------+------------------+\n",
            "|Customer ID|Total_Spent|No_unique_purchase|\n",
            "+-----------+-----------+------------------+\n",
            "|    12467.0|      135.0|                 1|\n",
            "|    13094.0|     2427.0|                13|\n",
            "|    17884.0|     3108.0|                20|\n",
            "|    17633.0|     2071.0|                 7|\n",
            "|    14094.0|      339.0|                 1|\n",
            "+-----------+-----------+------------------+\n",
            "only showing top 5 rows\n",
            "\n"
          ]
        }
      ]
    },
    {
      "cell_type": "markdown",
      "source": [
        "<b>b. 5.2 Create a new column \"SpendingCategory\":\n",
        "  - i. - \"High\" if total spent ≥ 5000.\n",
        "  - ii. - \"Medium\" if total spent between 1000 and 4999.\n",
        "  - iii. - \"Low\" if total spent < 1000."
      ],
      "metadata": {
        "id": "RhHzQdp5-lCj"
      }
    },
    {
      "cell_type": "markdown",
      "source": [],
      "metadata": {
        "id": "N6733ube_r_D"
      }
    },
    {
      "cell_type": "code",
      "source": [
        "Segmentation_spend = Segmentation_spend.withColumn(\"SpendingCategory\", pysql.when(pysql.col(\"Total_Spent\") >= 5000, \"High\") \\\n",
        "                      .when((pysql.col(\"Total_Spent\") >= 1000) & (pysql.col(\"Total_Spent\") <= 4999),\"Medium\")\\\n",
        "                      .otherwise(\"Low\"))"
      ],
      "metadata": {
        "id": "yeB0nT3f-rqb"
      },
      "execution_count": 33,
      "outputs": []
    },
    {
      "cell_type": "code",
      "source": [
        "Segmentation_spend.show(5)"
      ],
      "metadata": {
        "colab": {
          "base_uri": "https://localhost:8080/"
        },
        "id": "PP2iSMERAC9r",
        "outputId": "a0937054-e2df-4743-f91b-ff9df82a2d60"
      },
      "execution_count": 34,
      "outputs": [
        {
          "output_type": "stream",
          "name": "stdout",
          "text": [
            "+-----------+-----------+------------------+----------------+\n",
            "|Customer ID|Total_Spent|No_unique_purchase|SpendingCategory|\n",
            "+-----------+-----------+------------------+----------------+\n",
            "|    12467.0|      135.0|                 1|             Low|\n",
            "|    13094.0|     2427.0|                13|          Medium|\n",
            "|    17884.0|     3108.0|                20|          Medium|\n",
            "|    17633.0|     2071.0|                 7|          Medium|\n",
            "|    14094.0|      339.0|                 1|             Low|\n",
            "|    15893.0|      305.0|                 1|             Low|\n",
            "|    14269.0|      298.0|                 1|             Low|\n",
            "|    16596.0|      585.0|                 4|             Low|\n",
            "|    14285.0|     3284.0|                 8|          Medium|\n",
            "|    16916.0|     1141.0|                 4|          Medium|\n",
            "|    14024.0|      652.0|                 3|             Low|\n",
            "|    14452.0|      679.0|                 4|             Low|\n",
            "|    12737.0|     3711.0|                 2|          Medium|\n",
            "|    17072.0|      285.0|                 1|             Low|\n",
            "|    13607.0|     1092.0|                 2|          Medium|\n",
            "|    15846.0|      110.0|                 1|             Low|\n",
            "|    12671.0|     2624.0|                 1|          Medium|\n",
            "|    16561.0|      513.0|                 2|             Low|\n",
            "|    13956.0|     1037.0|                 5|          Medium|\n",
            "|    13533.0|      269.0|                 3|             Low|\n",
            "+-----------+-----------+------------------+----------------+\n",
            "only showing top 20 rows\n",
            "\n"
          ]
        }
      ]
    },
    {
      "cell_type": "markdown",
      "source": [
        "<font size= 5> <b>6. Top Products per Segment: For each \"SpendingCategory\", find the top 3 most purchased products (Description) based on total quantity sold."
      ],
      "metadata": {
        "id": "OFkuGC3JAdBL"
      }
    },
    {
      "cell_type": "code",
      "source": [
        "window_calc = Window.partitionBy(\"SpendingCategory\").orderBy(pysql.desc(\"Total_Quantity\"))\n",
        "\n",
        "top_product_segment = retail_df.join(Segmentation_spend, on = \"Customer ID\")"
      ],
      "metadata": {
        "id": "icAFaK2VAczL"
      },
      "execution_count": 35,
      "outputs": []
    },
    {
      "cell_type": "code",
      "source": [
        "top_product_segment.show(5)"
      ],
      "metadata": {
        "colab": {
          "base_uri": "https://localhost:8080/"
        },
        "id": "CVLbura3DQI7",
        "outputId": "26a7c030-f31e-4fbd-db43-70138296065c",
        "collapsed": true
      },
      "execution_count": 36,
      "outputs": [
        {
          "output_type": "stream",
          "name": "stdout",
          "text": [
            "+-----------+-------+---------+--------------------+--------+-------------------+-----+--------------+----------+----+-----+-----------+------------------+----------------+\n",
            "|Customer ID|Invoice|StockCode|         Description|Quantity|        InvoiceDate|Price|       Country|TotalPrice|Year|Month|Total_Spent|No_unique_purchase|SpendingCategory|\n",
            "+-----------+-------+---------+--------------------+--------+-------------------+-----+--------------+----------+----+-----+-----------+------------------+----------------+\n",
            "|    17884.0| 490349|   90040C|MURANO STYLE GLAS...|       3|2009-12-04 16:23:00|  3.5|United Kingdom|      11.0|2009|   12|     3108.0|                20|          Medium|\n",
            "|    17884.0| 490349|   90040A|MURANO STYLE GLAS...|       3|2009-12-04 16:23:00|  3.5|United Kingdom|      11.0|2009|   12|     3108.0|                20|          Medium|\n",
            "|    17884.0| 490349|   90002E|FLOWER BURST SILV...|       3|2009-12-04 16:23:00| 3.75|United Kingdom|      11.0|2009|   12|     3108.0|                20|          Medium|\n",
            "|    17884.0| 490356|    35957|SMALLFOLKART BAUB...|       1|2009-12-04 16:45:00| 0.42|United Kingdom|       0.0|2009|   12|     3108.0|                20|          Medium|\n",
            "|    17884.0| 490356|    22086|PAPER CHAIN KIT 5...|      12|2009-12-04 16:45:00| 2.95|United Kingdom|      35.0|2009|   12|     3108.0|                20|          Medium|\n",
            "+-----------+-------+---------+--------------------+--------+-------------------+-----+--------------+----------+----+-----+-----------+------------------+----------------+\n",
            "only showing top 5 rows\n",
            "\n"
          ]
        }
      ]
    },
    {
      "cell_type": "code",
      "source": [
        "top_product_segment = top_product_segment.groupBy(\"SpendingCategory\",\"Description\").agg(pysql.sum(\"Quantity\").alias(\"Total_Quantity\"))"
      ],
      "metadata": {
        "id": "-vr86QSDDSCT"
      },
      "execution_count": 37,
      "outputs": []
    },
    {
      "cell_type": "code",
      "source": [
        "top_product_segment.orderBy(pysql.col(\"Total_Quantity\").desc()).show(3)"
      ],
      "metadata": {
        "colab": {
          "base_uri": "https://localhost:8080/"
        },
        "id": "gSaSTjDvEHHU",
        "outputId": "b88966cc-69eb-4acd-d3da-04888ca7f8bc",
        "collapsed": true
      },
      "execution_count": 52,
      "outputs": [
        {
          "output_type": "stream",
          "name": "stdout",
          "text": [
            "+----------------+--------------------+--------------+----+\n",
            "|SpendingCategory|         Description|Total_Quantity|Rank|\n",
            "+----------------+--------------------+--------------+----+\n",
            "|            High|WORLD WAR 2 GLIDE...|         81112|   1|\n",
            "|            High|PAPER CRAFT , LIT...|         80995|   2|\n",
            "|            High|MEDIUM CERAMIC TO...|         76938|   3|\n",
            "+----------------+--------------------+--------------+----+\n",
            "only showing top 3 rows\n",
            "\n"
          ]
        }
      ]
    },
    {
      "cell_type": "code",
      "source": [
        "top_product_segment = top_product_segment.withColumn(\"Rank\", pysql.rank().over(window_calc)).filter(pysql.col(\"Rank\")<= 3).orderBy(\"SpendingCategory\",\"Rank\")"
      ],
      "metadata": {
        "id": "RWefeIC3ELCT"
      },
      "execution_count": 39,
      "outputs": []
    },
    {
      "cell_type": "code",
      "source": [
        "top_product_segment.show()"
      ],
      "metadata": {
        "colab": {
          "base_uri": "https://localhost:8080/"
        },
        "id": "7ZZHkMnAE1XU",
        "outputId": "cb1d7004-271c-4177-c958-e628f7770e00"
      },
      "execution_count": 40,
      "outputs": [
        {
          "output_type": "stream",
          "name": "stdout",
          "text": [
            "+----------------+--------------------+--------------+----+\n",
            "|SpendingCategory|         Description|Total_Quantity|Rank|\n",
            "+----------------+--------------------+--------------+----+\n",
            "|            High|WORLD WAR 2 GLIDE...|         81112|   1|\n",
            "|            High|PAPER CRAFT , LIT...|         80995|   2|\n",
            "|            High|MEDIUM CERAMIC TO...|         76938|   3|\n",
            "|             Low|WHITE HANGING HEA...|          5620|   1|\n",
            "|             Low|ASSORTED COLOUR B...|          5596|   2|\n",
            "|             Low|WORLD WAR 2 GLIDE...|          5159|   3|\n",
            "|          Medium|WORLD WAR 2 GLIDE...|         22898|   1|\n",
            "|          Medium|WHITE HANGING HEA...|         22874|   2|\n",
            "|          Medium|ASSORTED COLOUR B...|         18007|   3|\n",
            "+----------------+--------------------+--------------+----+\n",
            "\n"
          ]
        }
      ]
    },
    {
      "cell_type": "markdown",
      "source": [
        "<font size =5><b>7. Country-Wise Trends: For \"High\" spenders only, group by \"Country\" and \"Month\" to compute total monthly revenue, then sort by revenue in descending order.</font>"
      ],
      "metadata": {
        "id": "BkRcf2LnFJlM"
      }
    },
    {
      "cell_type": "code",
      "source": [
        "merge_df = retail_df.join(Segmentation_spend, on = \"Customer ID\")"
      ],
      "metadata": {
        "id": "j0K2AzTxFeVM"
      },
      "execution_count": 41,
      "outputs": []
    },
    {
      "cell_type": "code",
      "source": [
        "Country_Trend = merge_df.filter(pysql.col(\"SpendingCategory\") == \"High\")"
      ],
      "metadata": {
        "id": "1UDa0NvXFNeM"
      },
      "execution_count": 42,
      "outputs": []
    },
    {
      "cell_type": "code",
      "source": [
        "Country_Trend = Country_Trend.groupBy(\"Country\",\"Month\").agg(pysql.sum(\"Total_Spent\").alias(\"Total_monthly_revenue\"))"
      ],
      "metadata": {
        "id": "E6Yfk3LFF3XE"
      },
      "execution_count": 43,
      "outputs": []
    },
    {
      "cell_type": "code",
      "source": [
        "Country_Trend.orderBy(pysql.col(\"Total_monthly_revenue\").desc()).show()"
      ],
      "metadata": {
        "colab": {
          "base_uri": "https://localhost:8080/"
        },
        "id": "xe9uXD5jGlWE",
        "outputId": "e9949b89-9f32-4a7f-bbfd-449d99929699"
      },
      "execution_count": 53,
      "outputs": [
        {
          "output_type": "stream",
          "name": "stdout",
          "text": [
            "+--------------+-----+---------------------+\n",
            "|       Country|Month|Total_monthly_revenue|\n",
            "+--------------+-----+---------------------+\n",
            "|United Kingdom|   11|          1.1464331E9|\n",
            "|United Kingdom|   12|        1.108085712E9|\n",
            "|United Kingdom|   10|          8.8157805E8|\n",
            "|United Kingdom|    9|         7.92205678E8|\n",
            "|United Kingdom|    5|         6.59358328E8|\n",
            "|United Kingdom|    7|         6.56035963E8|\n",
            "|United Kingdom|    3|         6.53254656E8|\n",
            "|          EIRE|   10|         6.38893705E8|\n",
            "|United Kingdom|    8|         6.24040058E8|\n",
            "|          EIRE|    9|         6.03669315E8|\n",
            "|United Kingdom|    6|         6.01232119E8|\n",
            "|          EIRE|   11|         5.81908734E8|\n",
            "|United Kingdom|    1|         5.63338525E8|\n",
            "|United Kingdom|    4|         5.55184336E8|\n",
            "|United Kingdom|    2|         5.16535536E8|\n",
            "|          EIRE|   12|         3.84160314E8|\n",
            "|          EIRE|    5|         3.81867602E8|\n",
            "|          EIRE|    3|         3.53587858E8|\n",
            "|          EIRE|    6|         3.53481415E8|\n",
            "|          EIRE|    7|         3.21298094E8|\n",
            "+--------------+-----+---------------------+\n",
            "only showing top 20 rows\n",
            "\n"
          ]
        }
      ]
    },
    {
      "cell_type": "markdown",
      "source": [
        "<font size= 5><b>Save Results: Save both the customer segmentation table and the top products table as separate Parquet files."
      ],
      "metadata": {
        "id": "7Epz5CSYuZmB"
      }
    },
    {
      "cell_type": "code",
      "source": [
        "Segmentation_spend.write.csv(\"/content/drive/MyDrive/CPE032/customersegmentation.csv\", header=True)\n",
        "top_product_segment.write.csv(\"/content/drive/MyDrive/CPE032/top_products.csv\", header=True)"
      ],
      "metadata": {
        "id": "sXj_E_lIuZYq"
      },
      "execution_count": 54,
      "outputs": []
    },
    {
      "cell_type": "markdown",
      "source": [
        "# <font size = 6>Conclusion</font>"
      ],
      "metadata": {
        "id": "ETbZ_0234M0K"
      }
    }
  ]
}