{
  "nbformat": 4,
  "nbformat_minor": 0,
  "metadata": {
    "colab": {
      "provenance": [],
      "include_colab_link": true
    },
    "kernelspec": {
      "name": "python3",
      "display_name": "Python 3"
    },
    "language_info": {
      "name": "python"
    }
  },
  "cells": [
    {
      "cell_type": "markdown",
      "metadata": {
        "id": "view-in-github",
        "colab_type": "text"
      },
      "source": [
        "<a href=\"https://colab.research.google.com/github/KurtGabrielAnduque/CPE032/blob/main/Hands_On_Activity_1_1_ANDUQUE.ipynb\" target=\"_parent\"><img src=\"https://colab.research.google.com/assets/colab-badge.svg\" alt=\"Open In Colab\"/></a>"
      ]
    },
    {
      "cell_type": "markdown",
      "source": [
        "# Hands-On-Activity-1.1"
      ],
      "metadata": {
        "id": "I6Q6SR6o27Hw"
      }
    },
    {
      "cell_type": "markdown",
      "source": [
        "## Objective(s)\n",
        "The objective of this activity is to familiarize students with PySpark and Google Colab by setting up a foundational big data environment suitable for distributed data processing."
      ],
      "metadata": {
        "id": "G5VxqWsX5EK7"
      }
    },
    {
      "cell_type": "markdown",
      "source": [
        "## Intended Learning Outcomes\n",
        "\n",
        "At the end of this activity, the students should be able to:\n",
        "\n",
        "\n",
        "*   Analyze how PySpark handles data processing compared to traditional tools.\n",
        "*   Evaluate the benefits of distributed computing using simulated large-scale operations.\n",
        "*   Create a basic data processing workflow using PySpark DataFrames on Google Colab\n",
        "\n"
      ],
      "metadata": {
        "id": "13hXRFk75CCG"
      }
    },
    {
      "cell_type": "markdown",
      "source": [
        "## Discussion\n",
        "\n",
        "**What is PySpark?**\n",
        "\n",
        "Apache Spark is an open-source, distributed computing system designed for fast processing of large-scale data. PySpark is the Python interface for Apache Spark. It handles large datasets efficiently with parallel computation in Python workflows, ideal for batch processing, real-time streaming, machine learning, data analytics, and SQL querying. PySpark supports industries like finance, healthcare, and e-commerce with speed and scalability.\n",
        "\n",
        "\n",
        "**Spark Cluster**\n",
        "\n",
        "\n",
        "A key component of working with PySpark is clusters. A Spark cluster is a group of computers (nodes) that collaboratively process large datasets using Apache Spark, with a master node coordinating multiple worker nodes. This architecture enables distributed processing. The master node manages resources and tasks, while worker nodes execute assigned compute tasks.\n",
        "\n",
        "\n",
        "**Spark Session**\n",
        "\n",
        "\n",
        "A SparkSession is the entry point into PySpark, enabling interaction with Apache Spark's core capabilities. It allows us to execute queries, process data, and manage resources in the Spark cluster."
      ],
      "metadata": {
        "id": "m9qJStw-5CcI"
      }
    },
    {
      "cell_type": "markdown",
      "source": [
        "## Materials and Equipment\n",
        "\n",
        "\n",
        "*   Internet connection\n",
        "*   Google Colab\n",
        "*   Personal Computer\n",
        "\n"
      ],
      "metadata": {
        "id": "2F2HiO2G5Ce-"
      }
    },
    {
      "cell_type": "markdown",
      "source": [
        "## Procedure"
      ],
      "metadata": {
        "id": "cIiQRyJi53bL"
      }
    },
    {
      "cell_type": "markdown",
      "source": [
        "Importing Google Colab and Initializationof SparkSession"
      ],
      "metadata": {
        "id": "jL_NQHqo56Mh"
      }
    },
    {
      "cell_type": "code",
      "execution_count": 4,
      "metadata": {
        "colab": {
          "base_uri": "https://localhost:8080/"
        },
        "id": "-qWF0Whm2rji",
        "outputId": "a2a8f2c4-6b71-4228-8efb-36b55e27e45c"
      },
      "outputs": [
        {
          "output_type": "stream",
          "name": "stdout",
          "text": [
            "<pyspark.sql.session.SparkSession object at 0x7dd9cb46e850>\n"
          ]
        }
      ],
      "source": [
        "from pyspark.sql import SparkSession\n",
        "my_spark = SparkSession.builder.appName(\"my_spark\").getOrCreate()\n",
        "print(my_spark)"
      ]
    },
    {
      "cell_type": "markdown",
      "source": [
        "### Data Loading"
      ],
      "metadata": {
        "id": "Bn9SmAXD6B-R"
      }
    },
    {
      "cell_type": "code",
      "source": [
        "from google.colab import drive\n",
        "drive.mount('/content/drive')"
      ],
      "metadata": {
        "id": "DhZ58BYM77m7",
        "colab": {
          "base_uri": "https://localhost:8080/"
        },
        "outputId": "829a8c19-e5fb-44cf-dd36-c9456352bfa4"
      },
      "execution_count": 2,
      "outputs": [
        {
          "output_type": "stream",
          "name": "stdout",
          "text": [
            "Drive already mounted at /content/drive; to attempt to forcibly remount, call drive.mount(\"/content/drive\", force_remount=True).\n"
          ]
        }
      ]
    },
    {
      "cell_type": "markdown",
      "source": [],
      "metadata": {
        "id": "TTQjG95IRg0H"
      }
    },
    {
      "cell_type": "code",
      "source": [
        "username_df = my_spark.read.csv(\"/content/drive/MyDrive/CPE032/username.csv\", header=True, inferSchema=True) ## TODO: Change path according to your folder setup\n",
        "username_df.show()"
      ],
      "metadata": {
        "colab": {
          "base_uri": "https://localhost:8080/"
        },
        "id": "_O0jiFy526yS",
        "outputId": "4e604337-540e-429c-be99-d8315a08c0b5"
      },
      "execution_count": 5,
      "outputs": [
        {
          "output_type": "stream",
          "name": "stdout",
          "text": [
            "+---------------+----------+----------+---------+\n",
            "|       Username|Identifier|First Name|Last Name|\n",
            "+---------------+----------+----------+---------+\n",
            "|  graylooker123|      1002|    Robert|  Jenkins|\n",
            "|    ironlord982|      1003|     Linux| Cromwell|\n",
            "|  skyrimlord023|      1004| Cassandra|    Ramos|\n",
            "|wannabefortnite|      1005|    Joseph|   Pandas|\n",
            "|    smithSummer|      1006|    Tensor|     Flow|\n",
            "+---------------+----------+----------+---------+\n",
            "\n"
          ]
        }
      ]
    },
    {
      "cell_type": "markdown",
      "source": [
        "Follow up question, what happens when you run this code?"
      ],
      "metadata": {
        "id": "WqH3y_us3WRh"
      }
    },
    {
      "cell_type": "markdown",
      "source": [
        "**Answer: After running the code above I was able to import and read the csv into my working space using the pyspark.**"
      ],
      "metadata": {
        "id": "P0KwJov629C0"
      }
    },
    {
      "cell_type": "markdown",
      "source": [
        "count the number of rows"
      ],
      "metadata": {
        "id": "VPGntgn_6HzE"
      }
    },
    {
      "cell_type": "code",
      "source": [
        "username_df.count()"
      ],
      "metadata": {
        "id": "Qmk1blM94dc8",
        "colab": {
          "base_uri": "https://localhost:8080/"
        },
        "outputId": "ca4fe870-7a19-46df-ea6b-59ce30f36575"
      },
      "execution_count": 6,
      "outputs": [
        {
          "output_type": "execute_result",
          "data": {
            "text/plain": [
              "5"
            ]
          },
          "metadata": {},
          "execution_count": 6
        }
      ]
    },
    {
      "cell_type": "markdown",
      "source": [
        "### Sample Filtering of dataframe"
      ],
      "metadata": {
        "id": "tkX-1uo96LGg"
      }
    },
    {
      "cell_type": "code",
      "source": [
        "df_filtered = username_df.filter(username_df[\"Identifier\"] > 1002)\n",
        "# here we add a condition that we want filter the data that has a identifier value morethan 1002"
      ],
      "metadata": {
        "id": "eG7GTUZt4iXT"
      },
      "execution_count": 7,
      "outputs": []
    },
    {
      "cell_type": "code",
      "source": [
        "df_filtered.show()"
      ],
      "metadata": {
        "id": "Dd3ehuD14pXr",
        "colab": {
          "base_uri": "https://localhost:8080/"
        },
        "outputId": "13a6a6ff-6d87-429d-f16c-d78615fde000"
      },
      "execution_count": 8,
      "outputs": [
        {
          "output_type": "stream",
          "name": "stdout",
          "text": [
            "+---------------+----------+----------+---------+\n",
            "|       Username|Identifier|First Name|Last Name|\n",
            "+---------------+----------+----------+---------+\n",
            "|    ironlord982|      1003|     Linux| Cromwell|\n",
            "|  skyrimlord023|      1004| Cassandra|    Ramos|\n",
            "|wannabefortnite|      1005|    Joseph|   Pandas|\n",
            "|    smithSummer|      1006|    Tensor|     Flow|\n",
            "+---------------+----------+----------+---------+\n",
            "\n"
          ]
        }
      ]
    },
    {
      "cell_type": "markdown",
      "source": [
        "What’s the output?"
      ],
      "metadata": {
        "id": "cHU-3NFq6PTw"
      }
    },
    {
      "cell_type": "markdown",
      "source": [
        "**Answer: It get the data points that has a identifier value that is greaterthan 1002 so if you are going to look from the previous output it remove the datapoint that has an identifier of 1002.**"
      ],
      "metadata": {
        "id": "Ll1KLA814ocv"
      }
    },
    {
      "cell_type": "markdown",
      "source": [
        "### Aggregating and Grouping"
      ],
      "metadata": {
        "id": "aADowrJf6Ruf"
      }
    },
    {
      "cell_type": "code",
      "source": [
        "from pyspark.sql.functions import avg\n",
        "username_df.groupBy(\"Username\").agg(avg(\"Identifier\")).show()\n",
        "#"
      ],
      "metadata": {
        "id": "w2oY3d2m4yIQ",
        "colab": {
          "base_uri": "https://localhost:8080/"
        },
        "outputId": "e0469de5-ec2b-4ce7-de1b-b135f7cfaa84"
      },
      "execution_count": 9,
      "outputs": [
        {
          "output_type": "stream",
          "name": "stdout",
          "text": [
            "+---------------+---------------+\n",
            "|       Username|avg(Identifier)|\n",
            "+---------------+---------------+\n",
            "|wannabefortnite|         1005.0|\n",
            "|  skyrimlord023|         1004.0|\n",
            "|    ironlord982|         1003.0|\n",
            "|  graylooker123|         1002.0|\n",
            "|    smithSummer|         1006.0|\n",
            "+---------------+---------------+\n",
            "\n"
          ]
        }
      ]
    },
    {
      "cell_type": "markdown",
      "source": [
        "Summarize the procedure conducted"
      ],
      "metadata": {
        "id": "YJU4Pnsw6ZlL"
      }
    },
    {
      "cell_type": "markdown",
      "source": [
        "Answer: for the procedure part we are able to use the Pyspark module in our google collab workspace by importing its module and starting a session the naming convetion of the session depends on you. When it comes to the import thw csv file to collab you must first upload it into the google drive first before copying its file path to file park csv reader. When we want to see the output of every code we must end its line by show(). When it comes to counting the datapoints using the pyspark we just simply use the command count() to check the number of datapoints. Next is the filtering of the data we want to see, when we are filtering data we just simply use the filter command and add a condition based on our desired output. Lastly, for aggregating and grouping data, we just simply use the command groupBy followed by the column that we want to group. Next, we are going to add a agg() command, in our case we insert a avg() command inside it since we are dealing in finding the mean of identifier."
      ],
      "metadata": {
        "id": "-WNRDkgC6fX3"
      }
    },
    {
      "cell_type": "markdown",
      "source": [
        "# Supplementary Activity"
      ],
      "metadata": {
        "id": "1ugAzcrO6gDc"
      }
    },
    {
      "cell_type": "markdown",
      "source": [
        "1. Create a dataframe\n",
        "2. Use the old SparkSession instead of creating a new one\n",
        "3. Load the Employee_salaries.csv\n",
        "4. Filter the Employees based on their gender\n",
        "5. Group the Employees based on their Gender and Average their Salaries\n",
        "6. Compute annual salary for each employee.\n",
        "7. Sort the result and display the highest average."
      ],
      "metadata": {
        "id": "gn4pQKOg6p3J"
      }
    },
    {
      "cell_type": "markdown",
      "source": [
        "*Note that for each number in the supplementary activity (1-7), provide and explanation of the procedure, output, and/or analysis*"
      ],
      "metadata": {
        "id": "OGSE-Xi77CTA"
      }
    },
    {
      "cell_type": "markdown",
      "source": [
        "<font size =6>3. Load the Employee_salaries.csv</font>"
      ],
      "metadata": {
        "id": "sMkzGsm8UFmX"
      }
    },
    {
      "cell_type": "markdown",
      "source": [
        "For the loading of the Employee_salaries csv I first upload the csv into the google drive before copying its file path and pasting it into the my_spark csv reader."
      ],
      "metadata": {
        "id": "oESWO21jiQQ3"
      }
    },
    {
      "cell_type": "code",
      "source": [
        "salaries_df = my_spark.read.csv(\"/content/drive/MyDrive/CPE032/Employee_Salaries.csv\", header=True, inferSchema=True) ## TODO: Change path according to your folder setup\n",
        "salaries_df.show()"
      ],
      "metadata": {
        "colab": {
          "base_uri": "https://localhost:8080/"
        },
        "id": "uoOWZnoET75_",
        "outputId": "2a5bbfe6-2920-49c8-908b-435ad776d0ce"
      },
      "execution_count": 15,
      "outputs": [
        {
          "output_type": "stream",
          "name": "stdout",
          "text": [
            "+----------+--------------------+--------------------+------+-----------+------------+-------------+-----+\n",
            "|Department|     Department_Name|            Division|Gender|Base_Salary|Overtime_Pay|Longevity_Pay|Grade|\n",
            "+----------+--------------------+--------------------+------+-----------+------------+-------------+-----+\n",
            "|       ABS|Alcohol Beverage ...|ABS 85 Administra...|     M|   175873.0|         0.0|          0.0|   M2|\n",
            "|       ABS|Alcohol Beverage ...|ABS 85 Administra...|     M|  145613.36|         0.0|          0.0|   M3|\n",
            "|       ABS|Alcohol Beverage ...|ABS 85 Administra...|     F|   136970.0|         0.0|          0.0|   M3|\n",
            "|       ABS|Alcohol Beverage ...|ABS 85 Administra...|     F|  89432.694|         0.0|       2490.0|   21|\n",
            "|       ABS|Alcohol Beverage ...|ABS 85 Administra...|     F|    78947.0|      456.68|       6257.7|   16|\n",
            "|       ABS|Alcohol Beverage ...|ABS 85 Administra...|     F|    98228.0|       518.8|       998.28|   21|\n",
            "|       ABS|Alcohol Beverage ...|ABS 85 Administra...|     F| 82405.3864|       549.2|          0.0|   18|\n",
            "|       ABS|Alcohol Beverage ...|ABS 85 Administra...|     M|    93986.0|     1187.06|      2452.94|  N20|\n",
            "|       ABS|Alcohol Beverage ...|ABS 85 Administra...|     F|  149464.15|         0.0|      9021.82|   18|\n",
            "|       ABS|Alcohol Beverage ...|ABS 85 Administra...|     M|   117424.0|         0.0|          0.0|  N25|\n",
            "|       ABS|Alcohol Beverage ...|ABS 85 Administra...|     F|   82808.28|    11870.82|          0.0|   21|\n",
            "|       ABS|Alcohol Beverage ...|ABS 85 Administra...|     M| 65961.8438|      2092.7|          0.0|   13|\n",
            "|       ABS|Alcohol Beverage ...|ABS 85 Administra...|     M|   59288.86|     1013.01|          0.0|   13|\n",
            "|       ABS|Alcohol Beverage ...|ABS 85 Administra...|     M|  139407.15|         0.0|          0.0|   M3|\n",
            "|       ABS|Alcohol Beverage ...|ABS 85 Administra...|     F|   128531.0|         0.0|          0.0|  N27|\n",
            "|       ABS|Alcohol Beverage ...|ABS 85 Administra...|     M|  152632.07|         0.0|          0.0|   M3|\n",
            "|       ABS|Alcohol Beverage ...|ABS 85 Administra...|     F| 73955.2951|     3509.43|          0.0|   16|\n",
            "|       ABS|Alcohol Beverage ...|ABS 85 Administra...|     M|   117424.0|         0.0|          0.0|  N25|\n",
            "|       ABS|Alcohol Beverage ...|ABS 85 Administra...|     M|   117424.0|         0.0|          0.0|  N25|\n",
            "|       ABS|Alcohol Beverage ...|ABS 85 Administra...|     F| 110572.155|         0.0|          0.0|  N26|\n",
            "+----------+--------------------+--------------------+------+-----------+------------+-------------+-----+\n",
            "only showing top 20 rows\n",
            "\n"
          ]
        }
      ]
    },
    {
      "cell_type": "markdown",
      "source": [
        "<font size = 6>4. Filter the Employees based on their gender</font>\n"
      ],
      "metadata": {
        "id": "BJCNqhZwUgBv"
      }
    },
    {
      "cell_type": "markdown",
      "source": [
        "I create a seperate filter for male and female gender"
      ],
      "metadata": {
        "id": "ue_wIXZlmKqh"
      }
    },
    {
      "cell_type": "markdown",
      "source": [
        "<font size = 5>Filtered based on male gender</font>"
      ],
      "metadata": {
        "id": "hEU7GzTwU_3Q"
      }
    },
    {
      "cell_type": "markdown",
      "source": [
        "For the"
      ],
      "metadata": {
        "id": "q6CU-ZmjmS_F"
      }
    },
    {
      "cell_type": "code",
      "source": [
        "male = salaries_df.filter(salaries_df['Gender'] == \"M\")\n",
        "male.show()"
      ],
      "metadata": {
        "colab": {
          "base_uri": "https://localhost:8080/"
        },
        "id": "qeRqaPPsUftv",
        "outputId": "242471cf-2fb5-450b-ec86-30ed9fdea3b0"
      },
      "execution_count": 16,
      "outputs": [
        {
          "output_type": "stream",
          "name": "stdout",
          "text": [
            "+----------+--------------------+--------------------+------+-----------+------------+-------------+-----+\n",
            "|Department|     Department_Name|            Division|Gender|Base_Salary|Overtime_Pay|Longevity_Pay|Grade|\n",
            "+----------+--------------------+--------------------+------+-----------+------------+-------------+-----+\n",
            "|       ABS|Alcohol Beverage ...|ABS 85 Administra...|     M|   175873.0|         0.0|          0.0|   M2|\n",
            "|       ABS|Alcohol Beverage ...|ABS 85 Administra...|     M|  145613.36|         0.0|          0.0|   M3|\n",
            "|       ABS|Alcohol Beverage ...|ABS 85 Administra...|     M|    93986.0|     1187.06|      2452.94|  N20|\n",
            "|       ABS|Alcohol Beverage ...|ABS 85 Administra...|     M|   117424.0|         0.0|          0.0|  N25|\n",
            "|       ABS|Alcohol Beverage ...|ABS 85 Administra...|     M| 65961.8438|      2092.7|          0.0|   13|\n",
            "|       ABS|Alcohol Beverage ...|ABS 85 Administra...|     M|   59288.86|     1013.01|          0.0|   13|\n",
            "|       ABS|Alcohol Beverage ...|ABS 85 Administra...|     M|  139407.15|         0.0|          0.0|   M3|\n",
            "|       ABS|Alcohol Beverage ...|ABS 85 Administra...|     M|  152632.07|         0.0|          0.0|   M3|\n",
            "|       ABS|Alcohol Beverage ...|ABS 85 Administra...|     M|   117424.0|         0.0|          0.0|  N25|\n",
            "|       ABS|Alcohol Beverage ...|ABS 85 Administra...|     M|   117424.0|         0.0|          0.0|  N25|\n",
            "|       ABS|Alcohol Beverage ...|ABS 85 Beer Deliv...|     M|    61240.0|     5294.68|       995.18|   10|\n",
            "|       ABS|Alcohol Beverage ...|ABS 85 Beer Deliv...|     M|    61240.0|       92.35|       4827.4|   10|\n",
            "|       ABS|Alcohol Beverage ...|ABS 85 Beer Deliv...|     M|    86103.0|    23917.44|      3665.64|  N18|\n",
            "|       ABS|Alcohol Beverage ...|ABS 85 Beer Deliv...|     M|    61240.0|     9580.78|        459.3|   10|\n",
            "|       ABS|Alcohol Beverage ...|ABS 85 Beer Deliv...|     M|    86103.0|     3165.46|      3665.65|  N18|\n",
            "|       ABS|Alcohol Beverage ...|ABS 85 Beer Deliv...|     M| 75086.4937|     6857.37|          0.0|   15|\n",
            "|       ABS|Alcohol Beverage ...|ABS 85 Beer Deliv...|     M| 81931.2453|    24672.86|          0.0|  N18|\n",
            "|       ABS|Alcohol Beverage ...|ABS 85 Beer Deliv...|     M|    75621.0|     2065.26|      3471.32|   15|\n",
            "|       ABS|Alcohol Beverage ...|ABS 85 Beer Deliv...|     M|  75621.002|     4453.91|      3572.85|   15|\n",
            "|       ABS|Alcohol Beverage ...|ABS 85 Beer Deliv...|     M|    75621.0|    10989.68|      3436.83|   15|\n",
            "+----------+--------------------+--------------------+------+-----------+------------+-------------+-----+\n",
            "only showing top 20 rows\n",
            "\n"
          ]
        }
      ]
    },
    {
      "cell_type": "markdown",
      "source": [
        "<font size = 5>Filtered based on female gender</font>"
      ],
      "metadata": {
        "id": "-4h66bAwVIN3"
      }
    },
    {
      "cell_type": "code",
      "source": [
        "female = salaries_df.filter(salaries_df['Gender'] == \"F\")\n",
        "female.show()"
      ],
      "metadata": {
        "colab": {
          "base_uri": "https://localhost:8080/"
        },
        "id": "8QdjixHpV3e2",
        "outputId": "20c092a8-8971-4de6-8050-7af48968d6f9"
      },
      "execution_count": 17,
      "outputs": [
        {
          "output_type": "stream",
          "name": "stdout",
          "text": [
            "+----------+--------------------+--------------------+------+-----------+------------+-------------+-----+\n",
            "|Department|     Department_Name|            Division|Gender|Base_Salary|Overtime_Pay|Longevity_Pay|Grade|\n",
            "+----------+--------------------+--------------------+------+-----------+------------+-------------+-----+\n",
            "|       ABS|Alcohol Beverage ...|ABS 85 Administra...|     F|   136970.0|         0.0|          0.0|   M3|\n",
            "|       ABS|Alcohol Beverage ...|ABS 85 Administra...|     F|  89432.694|         0.0|       2490.0|   21|\n",
            "|       ABS|Alcohol Beverage ...|ABS 85 Administra...|     F|    78947.0|      456.68|       6257.7|   16|\n",
            "|       ABS|Alcohol Beverage ...|ABS 85 Administra...|     F|    98228.0|       518.8|       998.28|   21|\n",
            "|       ABS|Alcohol Beverage ...|ABS 85 Administra...|     F| 82405.3864|       549.2|          0.0|   18|\n",
            "|       ABS|Alcohol Beverage ...|ABS 85 Administra...|     F|  149464.15|         0.0|      9021.82|   18|\n",
            "|       ABS|Alcohol Beverage ...|ABS 85 Administra...|     F|   82808.28|    11870.82|          0.0|   21|\n",
            "|       ABS|Alcohol Beverage ...|ABS 85 Administra...|     F|   128531.0|         0.0|          0.0|  N27|\n",
            "|       ABS|Alcohol Beverage ...|ABS 85 Administra...|     F| 73955.2951|     3509.43|          0.0|   16|\n",
            "|       ABS|Alcohol Beverage ...|ABS 85 Administra...|     F| 110572.155|         0.0|          0.0|  N26|\n",
            "|       ABS|Alcohol Beverage ...| ABS 85 Beer Loading|     F|    76668.0|     3226.55|          0.0|   12|\n",
            "|       ABS|Alcohol Beverage ...|ABS 85 Beer Wareh...|     F|  56922.265|     6156.95|          0.0|   13|\n",
            "|       ABS|Alcohol Beverage ...|ABS 85 Licensure,...|     F|  166140.03|         0.0|          0.0|   M2|\n",
            "|       ABS|Alcohol Beverage ...|ABS 85 Licensure,...|     F| 99335.0745|     1540.34|          0.0|   22|\n",
            "|       ABS|Alcohol Beverage ...|ABS 85 Licensure,...|     F|  94334.247|         0.0|          0.0|  N25|\n",
            "|       ABS|Alcohol Beverage ...|ABS 85 Licensure,...|     F|    98349.0|         0.0|          0.0|   22|\n",
            "|       ABS|Alcohol Beverage ...|ABS 85 Licensure,...|     F|    64633.0|         0.0|          0.0|   16|\n",
            "|       ABS|Alcohol Beverage ...|ABS 85 Licensure,...|     F|    54583.0|         0.0|          0.0|   18|\n",
            "|       ABS|Alcohol Beverage ...| ABS 85 Burtonsville|     F| 47447.9101|     1302.22|          0.0|   12|\n",
            "|       ABS|Alcohol Beverage ...| ABS 85 Burtonsville|     F| 58239.9985|      536.86|          0.0|   14|\n",
            "+----------+--------------------+--------------------+------+-----------+------------+-------------+-----+\n",
            "only showing top 20 rows\n",
            "\n"
          ]
        }
      ]
    },
    {
      "cell_type": "markdown",
      "source": [
        "<font size = 6> 5. Group the Employees based on their Gender and Average their Salaries</font>"
      ],
      "metadata": {
        "id": "6ZCfUZhiWkVP"
      }
    },
    {
      "cell_type": "code",
      "source": [
        "salaries_df.groupBy('Gender').agg(avg('Base_Salary')).show()"
      ],
      "metadata": {
        "colab": {
          "base_uri": "https://localhost:8080/"
        },
        "id": "sIUDmCZeWjoI",
        "outputId": "c6284ed4-2229-45cd-8c6a-4bb0d7944034"
      },
      "execution_count": 21,
      "outputs": [
        {
          "output_type": "stream",
          "name": "stdout",
          "text": [
            "+------+-----------------+\n",
            "|Gender| avg(Base_Salary)|\n",
            "+------+-----------------+\n",
            "|     F|87497.50279041701|\n",
            "|     M|92382.92975236966|\n",
            "+------+-----------------+\n",
            "\n"
          ]
        }
      ]
    },
    {
      "cell_type": "markdown",
      "source": [
        "<font size = 6>6. Compute annual salary for each employee.</font>"
      ],
      "metadata": {
        "id": "OH49FjlnXMaW"
      }
    },
    {
      "cell_type": "code",
      "source": [
        "annual_salaries = salaries_df.withColumn(\"annual_salary\",salaries_df.Base_Salary*12)"
      ],
      "metadata": {
        "id": "fHHkAthyXUcO"
      },
      "execution_count": 54,
      "outputs": []
    },
    {
      "cell_type": "code",
      "source": [
        "annual_salaries.show()"
      ],
      "metadata": {
        "colab": {
          "base_uri": "https://localhost:8080/"
        },
        "id": "vrRO9oaudiUS",
        "outputId": "2b2dad9c-bcad-46a6-e94c-7c8c14604547"
      },
      "execution_count": 60,
      "outputs": [
        {
          "output_type": "stream",
          "name": "stdout",
          "text": [
            "+----------+--------------------+--------------------+------+-----------+------------+-------------+-----+------------------+\n",
            "|Department|     Department_Name|            Division|Gender|Base_Salary|Overtime_Pay|Longevity_Pay|Grade|     annual_salary|\n",
            "+----------+--------------------+--------------------+------+-----------+------------+-------------+-----+------------------+\n",
            "|       ABS|Alcohol Beverage ...|ABS 85 Administra...|     M|   175873.0|         0.0|          0.0|   M2|         2110476.0|\n",
            "|       ABS|Alcohol Beverage ...|ABS 85 Administra...|     M|  145613.36|         0.0|          0.0|   M3|1747360.3199999998|\n",
            "|       ABS|Alcohol Beverage ...|ABS 85 Administra...|     F|   136970.0|         0.0|          0.0|   M3|         1643640.0|\n",
            "|       ABS|Alcohol Beverage ...|ABS 85 Administra...|     F|  89432.694|         0.0|       2490.0|   21|       1073192.328|\n",
            "|       ABS|Alcohol Beverage ...|ABS 85 Administra...|     F|    78947.0|      456.68|       6257.7|   16|          947364.0|\n",
            "|       ABS|Alcohol Beverage ...|ABS 85 Administra...|     F|    98228.0|       518.8|       998.28|   21|         1178736.0|\n",
            "|       ABS|Alcohol Beverage ...|ABS 85 Administra...|     F| 82405.3864|       549.2|          0.0|   18|       988864.6368|\n",
            "|       ABS|Alcohol Beverage ...|ABS 85 Administra...|     M|    93986.0|     1187.06|      2452.94|  N20|         1127832.0|\n",
            "|       ABS|Alcohol Beverage ...|ABS 85 Administra...|     F|  149464.15|         0.0|      9021.82|   18|1793569.7999999998|\n",
            "|       ABS|Alcohol Beverage ...|ABS 85 Administra...|     M|   117424.0|         0.0|          0.0|  N25|         1409088.0|\n",
            "|       ABS|Alcohol Beverage ...|ABS 85 Administra...|     F|   82808.28|    11870.82|          0.0|   21|         993699.36|\n",
            "|       ABS|Alcohol Beverage ...|ABS 85 Administra...|     M| 65961.8438|      2092.7|          0.0|   13|       791542.1256|\n",
            "|       ABS|Alcohol Beverage ...|ABS 85 Administra...|     M|   59288.86|     1013.01|          0.0|   13| 711466.3200000001|\n",
            "|       ABS|Alcohol Beverage ...|ABS 85 Administra...|     M|  139407.15|         0.0|          0.0|   M3|1672885.7999999998|\n",
            "|       ABS|Alcohol Beverage ...|ABS 85 Administra...|     F|   128531.0|         0.0|          0.0|  N27|         1542372.0|\n",
            "|       ABS|Alcohol Beverage ...|ABS 85 Administra...|     M|  152632.07|         0.0|          0.0|   M3|        1831584.84|\n",
            "|       ABS|Alcohol Beverage ...|ABS 85 Administra...|     F| 73955.2951|     3509.43|          0.0|   16| 887463.5412000001|\n",
            "|       ABS|Alcohol Beverage ...|ABS 85 Administra...|     M|   117424.0|         0.0|          0.0|  N25|         1409088.0|\n",
            "|       ABS|Alcohol Beverage ...|ABS 85 Administra...|     M|   117424.0|         0.0|          0.0|  N25|         1409088.0|\n",
            "|       ABS|Alcohol Beverage ...|ABS 85 Administra...|     F| 110572.155|         0.0|          0.0|  N26|1326865.8599999999|\n",
            "+----------+--------------------+--------------------+------+-----------+------------+-------------+-----+------------------+\n",
            "only showing top 20 rows\n",
            "\n"
          ]
        }
      ]
    },
    {
      "cell_type": "markdown",
      "source": [
        "<font size = 6>7. Sort the result and display the highest average.</font>"
      ],
      "metadata": {
        "id": "stpoA77eYJgu"
      }
    },
    {
      "cell_type": "code",
      "source": [
        "sorted = annual_salaries.orderBy(\"annual_salary\", ascending = False)"
      ],
      "metadata": {
        "id": "AT5aS8XtYJGA"
      },
      "execution_count": 58,
      "outputs": []
    },
    {
      "cell_type": "code",
      "source": [
        "department = annual_salaries.groupBy('Department_Name').agg(avg('annual_salary'))\n",
        "department.orderBy('avg(annual_salary)', ascending = False).show()"
      ],
      "metadata": {
        "colab": {
          "base_uri": "https://localhost:8080/"
        },
        "id": "K3_sVGb4eiu-",
        "outputId": "23d66794-9229-4b82-8bf8-b291f464d322"
      },
      "execution_count": 73,
      "outputs": [
        {
          "output_type": "stream",
          "name": "stdout",
          "text": [
            "+--------------------+------------------+\n",
            "|     Department_Name|avg(annual_salary)|\n",
            "+--------------------+------------------+\n",
            "|Office of Intergo...|         1982361.0|\n",
            "|Office of Zoning ...|      1726805.8887|\n",
            "|   Ethics Commission|         1696661.1|\n",
            "|Non-Departmental ...|     1690204.61646|\n",
            "|Office of Labor R...|        1661731.53|\n",
            "|Office of Legisla...|     1603391.79224|\n",
            "|Department of Tec...| 1589294.535864151|\n",
            "|County Attorney's...| 1556170.444323077|\n",
            "|Office of Managem...|1537977.5485826086|\n",
            "|Offices of the Co...|1535036.8147250004|\n",
            "|Office of the Ins...|1519654.7722800002|\n",
            "|Office of Racial ...|       1465221.278|\n",
            "|Department of Fin...|1381558.0958380168|\n",
            "|Office of Food Sy...|         1353332.0|\n",
            "|Office of Emergen...|      1333383.7828|\n",
            "|Office of Human R...|1317795.4605705887|\n",
            "|Office of Human R...|1298186.4494181818|\n",
            "|Office of Consume...|1281641.4349894735|\n",
            "|      County Council| 1269054.781117557|\n",
            "|Department of Env...|1255733.6018789187|\n",
            "+--------------------+------------------+\n",
            "only showing top 20 rows\n",
            "\n"
          ]
        }
      ]
    },
    {
      "cell_type": "markdown",
      "source": [
        "# HOA Conclusion"
      ],
      "metadata": {
        "id": "swyC_Zk96rvy"
      }
    },
    {
      "cell_type": "markdown",
      "source": [
        "After completing the Hands"
      ],
      "metadata": {
        "id": "QsZDae4-6wRH"
      }
    }
  ]
}